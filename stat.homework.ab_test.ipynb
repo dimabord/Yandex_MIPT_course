{
 "cells": [
  {
   "cell_type": "code",
   "execution_count": 37,
   "metadata": {},
   "outputs": [],
   "source": [
    "import pandas as pd\n",
    "import numpy as np\n",
    "from scipy import stats\n",
    "from statsmodels.stats.weightstats import zconfint\n",
    "import statsmodels.stats.multitest as smm"
   ]
  },
  {
   "cell_type": "code",
   "execution_count": 4,
   "metadata": {},
   "outputs": [
    {
     "data": {
      "text/html": [
       "<div>\n",
       "<style scoped>\n",
       "    .dataframe tbody tr th:only-of-type {\n",
       "        vertical-align: middle;\n",
       "    }\n",
       "\n",
       "    .dataframe tbody tr th {\n",
       "        vertical-align: top;\n",
       "    }\n",
       "\n",
       "    .dataframe thead th {\n",
       "        text-align: right;\n",
       "    }\n",
       "</style>\n",
       "<table border=\"1\" class=\"dataframe\">\n",
       "  <thead>\n",
       "    <tr style=\"text-align: right;\">\n",
       "      <th></th>\n",
       "      <th>userID</th>\n",
       "      <th>browser</th>\n",
       "      <th>slot</th>\n",
       "      <th>n_clicks</th>\n",
       "      <th>n_queries</th>\n",
       "      <th>n_nonclk_queries</th>\n",
       "    </tr>\n",
       "  </thead>\n",
       "  <tbody>\n",
       "    <tr>\n",
       "      <th>0</th>\n",
       "      <td>1</td>\n",
       "      <td>Browser #2</td>\n",
       "      <td>exp</td>\n",
       "      <td>23</td>\n",
       "      <td>32</td>\n",
       "      <td>19</td>\n",
       "    </tr>\n",
       "    <tr>\n",
       "      <th>1</th>\n",
       "      <td>3</td>\n",
       "      <td>Browser #4</td>\n",
       "      <td>exp</td>\n",
       "      <td>3</td>\n",
       "      <td>4</td>\n",
       "      <td>2</td>\n",
       "    </tr>\n",
       "    <tr>\n",
       "      <th>2</th>\n",
       "      <td>5</td>\n",
       "      <td>Browser #4</td>\n",
       "      <td>exp</td>\n",
       "      <td>29</td>\n",
       "      <td>35</td>\n",
       "      <td>16</td>\n",
       "    </tr>\n",
       "    <tr>\n",
       "      <th>3</th>\n",
       "      <td>6</td>\n",
       "      <td>Browser #4</td>\n",
       "      <td>control</td>\n",
       "      <td>12</td>\n",
       "      <td>6</td>\n",
       "      <td>0</td>\n",
       "    </tr>\n",
       "    <tr>\n",
       "      <th>4</th>\n",
       "      <td>7</td>\n",
       "      <td>Browser #4</td>\n",
       "      <td>exp</td>\n",
       "      <td>54</td>\n",
       "      <td>68</td>\n",
       "      <td>30</td>\n",
       "    </tr>\n",
       "  </tbody>\n",
       "</table>\n",
       "</div>"
      ],
      "text/plain": [
       "   userID     browser     slot  n_clicks  n_queries  n_nonclk_queries\n",
       "0       1  Browser #2      exp        23         32                19\n",
       "1       3  Browser #4      exp         3          4                 2\n",
       "2       5  Browser #4      exp        29         35                16\n",
       "3       6  Browser #4  control        12          6                 0\n",
       "4       7  Browser #4      exp        54         68                30"
      ]
     },
     "execution_count": 4,
     "metadata": {},
     "output_type": "execute_result"
    }
   ],
   "source": [
    "data = pd.read_csv('ab_browser_test.csv')\n",
    "data.head()"
   ]
  },
  {
   "cell_type": "code",
   "execution_count": 5,
   "metadata": {},
   "outputs": [
    {
     "name": "stdout",
     "output_type": "stream",
     "text": [
      "1.614\n"
     ]
    }
   ],
   "source": [
    "exp_clicks = data[data.slot == 'exp'].n_clicks.sum()\n",
    "control_clicks = data[data.slot == 'control'].n_clicks.sum()\n",
    "print(round((exp_clicks/control_clicks - 1)*100, 3))"
   ]
  },
  {
   "cell_type": "code",
   "execution_count": 6,
   "metadata": {},
   "outputs": [
    {
     "data": {
      "text/plain": [
       "userID              281580\n",
       "browser             281580\n",
       "slot                281580\n",
       "n_clicks            281580\n",
       "n_queries           281580\n",
       "n_nonclk_queries    281580\n",
       "dtype: int64"
      ]
     },
     "execution_count": 6,
     "metadata": {},
     "output_type": "execute_result"
    }
   ],
   "source": [
    "data[data.slot == 'exp'].count()"
   ]
  },
  {
   "cell_type": "code",
   "execution_count": 7,
   "metadata": {},
   "outputs": [
    {
     "data": {
      "text/plain": [
       "userID              284554\n",
       "browser             284554\n",
       "slot                284554\n",
       "n_clicks            284554\n",
       "n_queries           284554\n",
       "n_nonclk_queries    284554\n",
       "dtype: int64"
      ]
     },
     "execution_count": 7,
     "metadata": {},
     "output_type": "execute_result"
    }
   ],
   "source": [
    "data[data.slot == 'control'].count()"
   ]
  },
  {
   "cell_type": "code",
   "execution_count": 14,
   "metadata": {},
   "outputs": [
    {
     "data": {
      "text/plain": [
       "MannwhitneyuResult(statistic=38940590204.0, pvalue=3.1236179006848145e-75)"
      ]
     },
     "execution_count": 14,
     "metadata": {},
     "output_type": "execute_result"
    }
   ],
   "source": [
    "stats.mannwhitneyu(data[data.slot == 'exp'].n_clicks, data[data.slot == 'control'].n_clicks)"
   ]
  },
  {
   "cell_type": "code",
   "execution_count": 23,
   "metadata": {},
   "outputs": [],
   "source": [
    "np.random.seed(0)\n",
    "def get_bootstrap_samples(data, n_samples):\n",
    "    indices = np.random.randint(0, len(data), (n_samples, len(data)))\n",
    "    samples = data[indices]\n",
    "    return samples\n",
    "\n",
    "exp_samples = get_bootstrap_samples(np.array(data[data.slot == 'exp'].n_clicks), 1000)\n",
    "control_samples = get_bootstrap_samples(np.array(data[data.slot == 'control'].n_clicks), 1000)"
   ]
  },
  {
   "cell_type": "code",
   "execution_count": 17,
   "metadata": {},
   "outputs": [
    {
     "data": {
      "text/plain": [
       "array([23,  3, 29, ...,  4,  4,  3])"
      ]
     },
     "execution_count": 17,
     "metadata": {},
     "output_type": "execute_result"
    }
   ],
   "source": [
    "np.array(data[data.slot == 'exp'].n_clicks)"
   ]
  },
  {
   "cell_type": "code",
   "execution_count": 24,
   "metadata": {},
   "outputs": [
    {
     "data": {
      "text/plain": [
       "(0.29854363324803357, 0.3051808665376836)"
      ]
     },
     "execution_count": 24,
     "metadata": {},
     "output_type": "execute_result"
    }
   ],
   "source": [
    "exp_means = np.mean(exp_samples, axis=1)\n",
    "control_means = np.mean(control_samples, axis=1)\n",
    "\n",
    "means = exp_means - control_means\n",
    "\n",
    "zconfint(means)"
   ]
  },
  {
   "cell_type": "code",
   "execution_count": 26,
   "metadata": {},
   "outputs": [
    {
     "data": {
      "text/plain": [
       "(1.0, 1.0)"
      ]
     },
     "execution_count": 26,
     "metadata": {},
     "output_type": "execute_result"
    }
   ],
   "source": [
    "exp_medians = np.median(exp_samples, axis=1)\n",
    "control_medians = np.median(control_samples, axis=1)\n",
    "\n",
    "medians = exp_medians - control_medians\n",
    "\n",
    "zconfint(medians)"
   ]
  },
  {
   "cell_type": "code",
   "execution_count": 31,
   "metadata": {},
   "outputs": [
    {
     "data": {
      "text/plain": [
       "(1000, 281580)"
      ]
     },
     "execution_count": 31,
     "metadata": {},
     "output_type": "execute_result"
    }
   ],
   "source": [
    "exp_samples.shape"
   ]
  },
  {
   "cell_type": "markdown",
   "metadata": {},
   "source": [
    "Разделите выборку на две части, соответствующие control и exp группам. Преобразуйте данные к виду, чтобы каждому пользователю соответствовало суммарное значение его кликов. С помощью критерия Манна-Уитни проверьте гипотезу о равенстве средних. Что можно сказать о получившемся значении достигаемого уровня значимости ? "
   ]
  },
  {
   "cell_type": "code",
   "execution_count": 29,
   "metadata": {},
   "outputs": [
    {
     "data": {
      "text/plain": [
       "MannwhitneyuResult(statistic=38901259929.0, pvalue=4.3471471887604393e-75)"
      ]
     },
     "execution_count": 29,
     "metadata": {},
     "output_type": "execute_result"
    }
   ],
   "source": [
    "control = data[data.slot == 'control'][{'n_clicks', 'userID'}]\n",
    "control_clicks = control.groupby(['userID']).sum()\n",
    "control_clicks\n",
    "\n",
    "exp = data[data.slot == 'exp'][{'n_clicks', 'userID'}]\n",
    "exp_clicks = exp.groupby(['userID']).sum()\n",
    "exp_clicks\n",
    "\n",
    "stats.mannwhitneyu(control_clicks['n_clicks'], exp_clicks['n_clicks'])"
   ]
  },
  {
   "cell_type": "markdown",
   "metadata": {},
   "source": [
    "Проверьте, для какого из браузеров наиболее сильно выражено отличие между количеством кликов в контрольной и экспериментальной группах.\n",
    "\n",
    "Для этого примените для каждого из срезов (по каждому из уникальных значений столбца browser) критерий Манна-Уитни между control и exp группами и сделайте поправку Холма-Бонферрони на множественную проверку с \\alpha=0.05α=0.05.\n",
    "\n",
    "Какое заключение можно сделать исходя из полученных результатов ?\n",
    "\n",
    "В качестве ответа введите количество незначимых изменений с точки зрения результатов, полученных после введения коррекции."
   ]
  },
  {
   "cell_type": "code",
   "execution_count": 21,
   "metadata": {},
   "outputs": [
    {
     "data": {
      "text/plain": [
       "Browser #4     156833\n",
       "Browser #22    142905\n",
       "Browser #2     110737\n",
       "Browser #14     89123\n",
       "Browser #20     33929\n",
       "Browser #17     32607\n",
       "Name: browser, dtype: int64"
      ]
     },
     "execution_count": 21,
     "metadata": {},
     "output_type": "execute_result"
    }
   ],
   "source": [
    "data.browser.value_counts()"
   ]
  },
  {
   "cell_type": "code",
   "execution_count": 30,
   "metadata": {},
   "outputs": [],
   "source": [
    "browser_4_exp = np.array(data[(data.slot == 'exp') & (data.browser == 'Browser #4')].n_clicks)\n",
    "browser_22_exp = np.array(data[(data.slot == 'exp') & (data.browser == 'Browser #22')].n_clicks)\n",
    "browser_2_exp = np.array(data[(data.slot == 'exp') & (data.browser == 'Browser #2')].n_clicks)\n",
    "browser_14_exp = np.array(data[(data.slot == 'exp') & (data.browser == 'Browser #14')].n_clicks)\n",
    "browser_20_exp = np.array(data[(data.slot == 'exp') & (data.browser == 'Browser #20')].n_clicks)\n",
    "browser_17_exp = np.array(data[(data.slot == 'exp') & (data.browser == 'Browser #17')].n_clicks)\n",
    "\n",
    "browser_4_control = np.array(data[(data.slot == 'control') & (data.browser == 'Browser #4')].n_clicks)\n",
    "browser_22_control = np.array(data[(data.slot == 'control') & (data.browser == 'Browser #22')].n_clicks)\n",
    "browser_2_control = np.array(data[(data.slot == 'control') & (data.browser == 'Browser #2')].n_clicks)\n",
    "browser_14_control = np.array(data[(data.slot == 'control') & (data.browser == 'Browser #14')].n_clicks)\n",
    "browser_20_control = np.array(data[(data.slot == 'control') & (data.browser == 'Browser #20')].n_clicks)\n",
    "browser_17_control = np.array(data[(data.slot == 'control') & (data.browser == 'Browser #417')].n_clicks)"
   ]
  },
  {
   "cell_type": "code",
   "execution_count": 35,
   "metadata": {},
   "outputs": [],
   "source": [
    "browser_4 = stats.mannwhitneyu(browser_4_exp, browser_4_control).pvalue\n",
    "browser_22 = stats.mannwhitneyu(browser_22_exp, browser_22_control).pvalue\n",
    "browser_2 = stats.mannwhitneyu(browser_2_exp, browser_2_control).pvalue\n",
    "browser_14 = stats.mannwhitneyu(browser_14_exp, browser_14_control).pvalue\n",
    "browser_20 = stats.mannwhitneyu(browser_20_exp, browser_20_control).pvalue\n",
    "browser_17 = stats.mannwhitneyu(browser_17_exp, browser_17_control).pvalue"
   ]
  },
  {
   "cell_type": "code",
   "execution_count": 41,
   "metadata": {},
   "outputs": [
    {
     "data": {
      "text/plain": [
       "array([False, False, False,  True, False,  True])"
      ]
     },
     "execution_count": 41,
     "metadata": {},
     "output_type": "execute_result"
    }
   ],
   "source": [
    "values = [browser_4, browser_22, browser_2, browser_14, browser_20, browser_17]\n",
    "browser_holm = smm.multipletests(pvals=values,\n",
    "                                 method='holm')\n",
    "browser_holm[1]<0.05"
   ]
  },
  {
   "cell_type": "markdown",
   "metadata": {},
   "source": [
    "Для каждого браузера в каждой из двух групп (control и exp) посчитайте долю запросов, в которых пользователь не кликнул ни разу. Это можно сделать, поделив сумму значений n_nonclk_queries на сумму значений n_queries. Умножив это значение на 100, получим процент некликнутых запросов, который можно легче проинтерпретировать.\n",
    "\n",
    "Сходятся ли результаты проведенного Вами анализа с показателем процента некликнутых запросов ? Отметьте все верные утверждения."
   ]
  },
  {
   "cell_type": "code",
   "execution_count": 60,
   "metadata": {},
   "outputs": [],
   "source": [
    "browser_exp_nonclick = data[data.slot == 'exp'][{'browser', 'n_nonclk_queries'}].groupby(['browser']).sum()\n",
    "browser_exp_click = data[data.slot == 'exp'][{'browser', 'n_queries'}].groupby(['browser']).sum()\n",
    "\n",
    "browser_control_nonclick = data[data.slot == 'control'][{'browser', 'n_nonclk_queries'}].groupby(['browser']).sum()\n",
    "browser_control_click = data[data.slot == 'control'][{'browser', 'n_queries'}].groupby(['browser']).sum()"
   ]
  },
  {
   "cell_type": "code",
   "execution_count": 61,
   "metadata": {},
   "outputs": [
    {
     "data": {
      "text/html": [
       "<div>\n",
       "<style scoped>\n",
       "    .dataframe tbody tr th:only-of-type {\n",
       "        vertical-align: middle;\n",
       "    }\n",
       "\n",
       "    .dataframe tbody tr th {\n",
       "        vertical-align: top;\n",
       "    }\n",
       "\n",
       "    .dataframe thead th {\n",
       "        text-align: right;\n",
       "    }\n",
       "</style>\n",
       "<table border=\"1\" class=\"dataframe\">\n",
       "  <thead>\n",
       "    <tr style=\"text-align: right;\">\n",
       "      <th></th>\n",
       "      <th>n_nonclk_queries</th>\n",
       "      <th>n_queries</th>\n",
       "    </tr>\n",
       "    <tr>\n",
       "      <th>browser</th>\n",
       "      <th></th>\n",
       "      <th></th>\n",
       "    </tr>\n",
       "  </thead>\n",
       "  <tbody>\n",
       "    <tr>\n",
       "      <th>Browser #14</th>\n",
       "      <td>161252</td>\n",
       "      <td>279998</td>\n",
       "    </tr>\n",
       "    <tr>\n",
       "      <th>Browser #17</th>\n",
       "      <td>75837</td>\n",
       "      <td>208921</td>\n",
       "    </tr>\n",
       "    <tr>\n",
       "      <th>Browser #2</th>\n",
       "      <td>260259</td>\n",
       "      <td>566239</td>\n",
       "    </tr>\n",
       "    <tr>\n",
       "      <th>Browser #20</th>\n",
       "      <td>78548</td>\n",
       "      <td>193752</td>\n",
       "    </tr>\n",
       "    <tr>\n",
       "      <th>Browser #22</th>\n",
       "      <td>315470</td>\n",
       "      <td>777135</td>\n",
       "    </tr>\n",
       "    <tr>\n",
       "      <th>Browser #4</th>\n",
       "      <td>498254</td>\n",
       "      <td>1060771</td>\n",
       "    </tr>\n",
       "  </tbody>\n",
       "</table>\n",
       "</div>"
      ],
      "text/plain": [
       "             n_nonclk_queries  n_queries\n",
       "browser                                 \n",
       "Browser #14            161252     279998\n",
       "Browser #17             75837     208921\n",
       "Browser #2             260259     566239\n",
       "Browser #20             78548     193752\n",
       "Browser #22            315470     777135\n",
       "Browser #4             498254    1060771"
      ]
     },
     "execution_count": 61,
     "metadata": {},
     "output_type": "execute_result"
    }
   ],
   "source": [
    "browser_exp = pd.concat([browser_exp_nonclick, browser_exp_click], sort=False, axis=1)\n",
    "browser_exp\n",
    "\n",
    "browser_control = pd.concat([browser_control_nonclick, browser_control_click], sort=False, axis=1)\n",
    "browser_control"
   ]
  },
  {
   "cell_type": "code",
   "execution_count": 63,
   "metadata": {},
   "outputs": [
    {
     "data": {
      "text/html": [
       "<div>\n",
       "<style scoped>\n",
       "    .dataframe tbody tr th:only-of-type {\n",
       "        vertical-align: middle;\n",
       "    }\n",
       "\n",
       "    .dataframe tbody tr th {\n",
       "        vertical-align: top;\n",
       "    }\n",
       "\n",
       "    .dataframe thead th {\n",
       "        text-align: right;\n",
       "    }\n",
       "</style>\n",
       "<table border=\"1\" class=\"dataframe\">\n",
       "  <thead>\n",
       "    <tr style=\"text-align: right;\">\n",
       "      <th></th>\n",
       "      <th>n_nonclk_queries</th>\n",
       "      <th>n_queries</th>\n",
       "      <th>perc</th>\n",
       "      <th>perc_exp</th>\n",
       "    </tr>\n",
       "    <tr>\n",
       "      <th>browser</th>\n",
       "      <th></th>\n",
       "      <th></th>\n",
       "      <th></th>\n",
       "      <th></th>\n",
       "    </tr>\n",
       "  </thead>\n",
       "  <tbody>\n",
       "    <tr>\n",
       "      <th>Browser #14</th>\n",
       "      <td>123656</td>\n",
       "      <td>282606</td>\n",
       "      <td>43.755617</td>\n",
       "      <td>43.755617</td>\n",
       "    </tr>\n",
       "    <tr>\n",
       "      <th>Browser #17</th>\n",
       "      <td>77614</td>\n",
       "      <td>210123</td>\n",
       "      <td>36.937413</td>\n",
       "      <td>36.937413</td>\n",
       "    </tr>\n",
       "    <tr>\n",
       "      <th>Browser #2</th>\n",
       "      <td>246514</td>\n",
       "      <td>548019</td>\n",
       "      <td>44.982747</td>\n",
       "      <td>44.982747</td>\n",
       "    </tr>\n",
       "    <tr>\n",
       "      <th>Browser #20</th>\n",
       "      <td>72998</td>\n",
       "      <td>187283</td>\n",
       "      <td>38.977376</td>\n",
       "      <td>38.977376</td>\n",
       "    </tr>\n",
       "    <tr>\n",
       "      <th>Browser #22</th>\n",
       "      <td>296177</td>\n",
       "      <td>743156</td>\n",
       "      <td>39.853947</td>\n",
       "      <td>39.853947</td>\n",
       "    </tr>\n",
       "    <tr>\n",
       "      <th>Browser #4</th>\n",
       "      <td>456508</td>\n",
       "      <td>1011250</td>\n",
       "      <td>45.142942</td>\n",
       "      <td>45.142942</td>\n",
       "    </tr>\n",
       "  </tbody>\n",
       "</table>\n",
       "</div>"
      ],
      "text/plain": [
       "             n_nonclk_queries  n_queries       perc   perc_exp\n",
       "browser                                                       \n",
       "Browser #14            123656     282606  43.755617  43.755617\n",
       "Browser #17             77614     210123  36.937413  36.937413\n",
       "Browser #2             246514     548019  44.982747  44.982747\n",
       "Browser #20             72998     187283  38.977376  38.977376\n",
       "Browser #22            296177     743156  39.853947  39.853947\n",
       "Browser #4             456508    1011250  45.142942  45.142942"
      ]
     },
     "execution_count": 63,
     "metadata": {},
     "output_type": "execute_result"
    }
   ],
   "source": [
    "browser_exp['perc_exp'] = (browser_exp.n_nonclk_queries/browser_exp.n_queries)*100\n",
    "browser_exp"
   ]
  },
  {
   "cell_type": "code",
   "execution_count": 64,
   "metadata": {},
   "outputs": [
    {
     "data": {
      "text/html": [
       "<div>\n",
       "<style scoped>\n",
       "    .dataframe tbody tr th:only-of-type {\n",
       "        vertical-align: middle;\n",
       "    }\n",
       "\n",
       "    .dataframe tbody tr th {\n",
       "        vertical-align: top;\n",
       "    }\n",
       "\n",
       "    .dataframe thead th {\n",
       "        text-align: right;\n",
       "    }\n",
       "</style>\n",
       "<table border=\"1\" class=\"dataframe\">\n",
       "  <thead>\n",
       "    <tr style=\"text-align: right;\">\n",
       "      <th></th>\n",
       "      <th>n_nonclk_queries</th>\n",
       "      <th>n_queries</th>\n",
       "      <th>perc_control</th>\n",
       "    </tr>\n",
       "    <tr>\n",
       "      <th>browser</th>\n",
       "      <th></th>\n",
       "      <th></th>\n",
       "      <th></th>\n",
       "    </tr>\n",
       "  </thead>\n",
       "  <tbody>\n",
       "    <tr>\n",
       "      <th>Browser #14</th>\n",
       "      <td>161252</td>\n",
       "      <td>279998</td>\n",
       "      <td>57.590411</td>\n",
       "    </tr>\n",
       "    <tr>\n",
       "      <th>Browser #17</th>\n",
       "      <td>75837</td>\n",
       "      <td>208921</td>\n",
       "      <td>36.299367</td>\n",
       "    </tr>\n",
       "    <tr>\n",
       "      <th>Browser #2</th>\n",
       "      <td>260259</td>\n",
       "      <td>566239</td>\n",
       "      <td>45.962747</td>\n",
       "    </tr>\n",
       "    <tr>\n",
       "      <th>Browser #20</th>\n",
       "      <td>78548</td>\n",
       "      <td>193752</td>\n",
       "      <td>40.540485</td>\n",
       "    </tr>\n",
       "    <tr>\n",
       "      <th>Browser #22</th>\n",
       "      <td>315470</td>\n",
       "      <td>777135</td>\n",
       "      <td>40.593977</td>\n",
       "    </tr>\n",
       "    <tr>\n",
       "      <th>Browser #4</th>\n",
       "      <td>498254</td>\n",
       "      <td>1060771</td>\n",
       "      <td>46.970930</td>\n",
       "    </tr>\n",
       "  </tbody>\n",
       "</table>\n",
       "</div>"
      ],
      "text/plain": [
       "             n_nonclk_queries  n_queries  perc_control\n",
       "browser                                               \n",
       "Browser #14            161252     279998     57.590411\n",
       "Browser #17             75837     208921     36.299367\n",
       "Browser #2             260259     566239     45.962747\n",
       "Browser #20             78548     193752     40.540485\n",
       "Browser #22            315470     777135     40.593977\n",
       "Browser #4             498254    1060771     46.970930"
      ]
     },
     "execution_count": 64,
     "metadata": {},
     "output_type": "execute_result"
    }
   ],
   "source": [
    "browser_control['perc_control'] = (browser_control.n_nonclk_queries/browser_control.n_queries)*100\n",
    "browser_control"
   ]
  },
  {
   "cell_type": "code",
   "execution_count": 67,
   "metadata": {},
   "outputs": [
    {
     "data": {
      "text/html": [
       "<div>\n",
       "<style scoped>\n",
       "    .dataframe tbody tr th:only-of-type {\n",
       "        vertical-align: middle;\n",
       "    }\n",
       "\n",
       "    .dataframe tbody tr th {\n",
       "        vertical-align: top;\n",
       "    }\n",
       "\n",
       "    .dataframe thead th {\n",
       "        text-align: right;\n",
       "    }\n",
       "</style>\n",
       "<table border=\"1\" class=\"dataframe\">\n",
       "  <thead>\n",
       "    <tr style=\"text-align: right;\">\n",
       "      <th></th>\n",
       "      <th>n_nonclk_queries</th>\n",
       "      <th>n_queries</th>\n",
       "      <th>perc_control</th>\n",
       "      <th>perc_exp</th>\n",
       "    </tr>\n",
       "    <tr>\n",
       "      <th>browser</th>\n",
       "      <th></th>\n",
       "      <th></th>\n",
       "      <th></th>\n",
       "      <th></th>\n",
       "    </tr>\n",
       "  </thead>\n",
       "  <tbody>\n",
       "    <tr>\n",
       "      <th>Browser #14</th>\n",
       "      <td>161252</td>\n",
       "      <td>279998</td>\n",
       "      <td>57.590411</td>\n",
       "      <td>43.755617</td>\n",
       "    </tr>\n",
       "    <tr>\n",
       "      <th>Browser #17</th>\n",
       "      <td>75837</td>\n",
       "      <td>208921</td>\n",
       "      <td>36.299367</td>\n",
       "      <td>36.937413</td>\n",
       "    </tr>\n",
       "    <tr>\n",
       "      <th>Browser #2</th>\n",
       "      <td>260259</td>\n",
       "      <td>566239</td>\n",
       "      <td>45.962747</td>\n",
       "      <td>44.982747</td>\n",
       "    </tr>\n",
       "    <tr>\n",
       "      <th>Browser #20</th>\n",
       "      <td>78548</td>\n",
       "      <td>193752</td>\n",
       "      <td>40.540485</td>\n",
       "      <td>38.977376</td>\n",
       "    </tr>\n",
       "    <tr>\n",
       "      <th>Browser #22</th>\n",
       "      <td>315470</td>\n",
       "      <td>777135</td>\n",
       "      <td>40.593977</td>\n",
       "      <td>39.853947</td>\n",
       "    </tr>\n",
       "    <tr>\n",
       "      <th>Browser #4</th>\n",
       "      <td>498254</td>\n",
       "      <td>1060771</td>\n",
       "      <td>46.970930</td>\n",
       "      <td>45.142942</td>\n",
       "    </tr>\n",
       "  </tbody>\n",
       "</table>\n",
       "</div>"
      ],
      "text/plain": [
       "             n_nonclk_queries  n_queries  perc_control   perc_exp\n",
       "browser                                                          \n",
       "Browser #14            161252     279998     57.590411  43.755617\n",
       "Browser #17             75837     208921     36.299367  36.937413\n",
       "Browser #2             260259     566239     45.962747  44.982747\n",
       "Browser #20             78548     193752     40.540485  38.977376\n",
       "Browser #22            315470     777135     40.593977  39.853947\n",
       "Browser #4             498254    1060771     46.970930  45.142942"
      ]
     },
     "execution_count": 67,
     "metadata": {},
     "output_type": "execute_result"
    }
   ],
   "source": [
    "browser_result = pd.concat([browser_control, browser_exp.perc_exp], sort=False, axis=1)\n",
    "browser_result"
   ]
  },
  {
   "cell_type": "code",
   "execution_count": null,
   "metadata": {},
   "outputs": [],
   "source": []
  }
 ],
 "metadata": {
  "kernelspec": {
   "display_name": "Python 3",
   "language": "python",
   "name": "python3"
  },
  "language_info": {
   "codemirror_mode": {
    "name": "ipython",
    "version": 3
   },
   "file_extension": ".py",
   "mimetype": "text/x-python",
   "name": "python",
   "nbconvert_exporter": "python",
   "pygments_lexer": "ipython3",
   "version": "3.7.3"
  }
 },
 "nbformat": 4,
 "nbformat_minor": 4
}
