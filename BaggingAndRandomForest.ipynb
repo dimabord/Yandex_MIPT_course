{
 "cells": [
  {
   "cell_type": "code",
   "execution_count": 59,
   "metadata": {},
   "outputs": [],
   "source": [
    "from sklearn import datasets\n",
    "from sklearn.model_selection import cross_val_score\n",
    "from sklearn.tree import DecisionTreeClassifier\n",
    "from sklearn.ensemble import BaggingClassifier, RandomForestClassifier\n",
    "from math import sqrt\n",
    "import pandas as pd"
   ]
  },
  {
   "cell_type": "code",
   "execution_count": 45,
   "metadata": {},
   "outputs": [],
   "source": [
    "data, target=datasets.load_digits(return_X_y=True)\n",
    "cv=10"
   ]
  },
  {
   "cell_type": "code",
   "execution_count": 38,
   "metadata": {},
   "outputs": [],
   "source": [
    "def write_answer(answer):\n",
    "    with open(\"submission.txt\", \"w\") as fout:\n",
    "        fout.write(answer)\n",
    "        \n",
    "\n",
    "def check_score(model, X, y):\n",
    "    score = cross_val_score(model, X, y, cv=cv).mean()\n",
    "    print(score)\n",
    "    write_answer(str(score))"
   ]
  },
  {
   "cell_type": "code",
   "execution_count": 50,
   "metadata": {},
   "outputs": [
    {
     "name": "stdout",
     "output_type": "stream",
     "text": [
      "8.0\n"
     ]
    }
   ],
   "source": [
    "print(sqrt(data.shape[1]))"
   ]
  },
  {
   "cell_type": "code",
   "execution_count": 36,
   "metadata": {},
   "outputs": [
    {
     "name": "stdout",
     "output_type": "stream",
     "text": [
      "0.8274406647366878\n"
     ]
    }
   ],
   "source": [
    "tree = DecisionTreeClassifier()\n",
    "score = cross_val_score(tree, data, target, cv=cv).mean()\n",
    "print(score)\n",
    "write_answer(str(score))"
   ]
  },
  {
   "cell_type": "code",
   "execution_count": 40,
   "metadata": {},
   "outputs": [
    {
     "name": "stdout",
     "output_type": "stream",
     "text": [
      "0.9248931561432423\n"
     ]
    }
   ],
   "source": [
    "bagging = BaggingClassifier(base_estimator=tree,\n",
    "                            n_estimators=100)\n",
    "\n",
    "check_score(bagging, data, target)"
   ]
  },
  {
   "cell_type": "code",
   "execution_count": 54,
   "metadata": {},
   "outputs": [
    {
     "name": "stdout",
     "output_type": "stream",
     "text": [
      "0.9321308062575355\n"
     ]
    }
   ],
   "source": [
    "sqrt_bagging = BaggingClassifier(base_estimator=tree,\n",
    "                                 n_estimators=100,\n",
    "                                 max_features=int(sqrt(data.shape[1])))\n",
    "\n",
    "check_score(sqrt_bagging, data, target)"
   ]
  },
  {
   "cell_type": "code",
   "execution_count": 57,
   "metadata": {},
   "outputs": [
    {
     "name": "stdout",
     "output_type": "stream",
     "text": [
      "0.9578300123409947\n"
     ]
    }
   ],
   "source": [
    "sqrt_tree_bagging = BaggingClassifier(base_estimator=DecisionTreeClassifier(max_features=int(sqrt(data.shape[1]))),\n",
    "                                      n_estimators=100,\n",
    "                                      )\n",
    "\n",
    "check_score(sqrt_tree_bagging, data, target)"
   ]
  },
  {
   "cell_type": "code",
   "execution_count": 60,
   "metadata": {},
   "outputs": [
    {
     "name": "stdout",
     "output_type": "stream",
     "text": [
      "0.9528154401278492\n"
     ]
    }
   ],
   "source": [
    "forest = RandomForestClassifier(n_estimators=100)\n",
    "check_score(forest, data, target)"
   ]
  },
  {
   "cell_type": "code",
   "execution_count": 64,
   "metadata": {},
   "outputs": [],
   "source": [
    "write_answer('2 3 4 7')"
   ]
  },
  {
   "cell_type": "code",
   "execution_count": null,
   "metadata": {},
   "outputs": [],
   "source": []
  }
 ],
 "metadata": {
  "kernelspec": {
   "display_name": "Python 3",
   "language": "python",
   "name": "python3"
  },
  "language_info": {
   "codemirror_mode": {
    "name": "ipython",
    "version": 3
   },
   "file_extension": ".py",
   "mimetype": "text/x-python",
   "name": "python",
   "nbconvert_exporter": "python",
   "pygments_lexer": "ipython3",
   "version": "3.7.3"
  }
 },
 "nbformat": 4,
 "nbformat_minor": 4
}
