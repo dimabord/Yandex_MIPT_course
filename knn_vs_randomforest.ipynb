{
 "cells": [
  {
   "cell_type": "code",
   "execution_count": 7,
   "metadata": {},
   "outputs": [],
   "source": [
    "from sklearn.model_selection import train_test_split\n",
    "from sklearn.ensemble import RandomForestClassifier\n",
    "from sklearn import datasets\n",
    "from numpy import linalg, argmin\n",
    "from sklearn.metrics import accuracy_score \n",
    "\n",
    "X, y = datasets.load_digits(return_X_y=True)\n",
    "\n",
    "(X_train, \n",
    " X_test, \n",
    " y_train, y_test) = train_test_split(X, y, \n",
    "                                     test_size=0.25, \n",
    "                                     shuffle=False)"
   ]
  },
  {
   "cell_type": "code",
   "execution_count": 9,
   "metadata": {},
   "outputs": [
    {
     "name": "stdout",
     "output_type": "stream",
     "text": [
      "0.0377777777777778\n"
     ]
    }
   ],
   "source": [
    "# manual 1NN method\n",
    "\n",
    "def find_NN_class(x, X_train, y_train):\n",
    "    distances = []\n",
    "    for i in X_train:\n",
    "        distances.append(linalg.norm(x-i))\n",
    "    return y[argmin(distances)]\n",
    "\n",
    "y_pred=[]\n",
    "for x in X_test:\n",
    "    y_pred.append(find_NN_class(x, X_train, y_train))\n",
    "\n",
    "    \n",
    "print(1-accuracy_score(y_test, y_pred))"
   ]
  },
  {
   "cell_type": "code",
   "execution_count": 10,
   "metadata": {},
   "outputs": [],
   "source": [
    "def write_answer(answer):\n",
    "    with open(\"submission.txt\", \"w\") as fout:\n",
    "        fout.write(answer)\n",
    "        \n",
    "write_answer(str(1-accuracy_score(y_test, y_pred)))"
   ]
  },
  {
   "cell_type": "code",
   "execution_count": 11,
   "metadata": {},
   "outputs": [
    {
     "name": "stdout",
     "output_type": "stream",
     "text": [
      "0.06888888888888889\n"
     ]
    }
   ],
   "source": [
    "forest = RandomForestClassifier(n_estimators=1000)\n",
    "forest.fit(X_train, y_train)\n",
    "y_pred = forest.predict(X_test)\n",
    "\n",
    "print(1-accuracy_score(y_test, y_pred))\n",
    "\n",
    "write_answer(str(1-accuracy_score(y_test, y_pred)))"
   ]
  },
  {
   "cell_type": "code",
   "execution_count": null,
   "metadata": {},
   "outputs": [],
   "source": []
  }
 ],
 "metadata": {
  "kernelspec": {
   "display_name": "Python 3",
   "language": "python",
   "name": "python3"
  },
  "language_info": {
   "codemirror_mode": {
    "name": "ipython",
    "version": 3
   },
   "file_extension": ".py",
   "mimetype": "text/x-python",
   "name": "python",
   "nbconvert_exporter": "python",
   "pygments_lexer": "ipython3",
   "version": "3.7.3"
  }
 },
 "nbformat": 4,
 "nbformat_minor": 4
}
