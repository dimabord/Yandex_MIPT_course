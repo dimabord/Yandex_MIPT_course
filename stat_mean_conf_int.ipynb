{
 "cells": [
  {
   "cell_type": "markdown",
   "metadata": {},
   "source": [
    "**Корректность проверена на Python 3.7:**\n",
    "+ pandas 0.23.0\n",
    "+ numpy 1.14.5\n",
    "+ sklearn 0.19.1"
   ]
  },
  {
   "cell_type": "markdown",
   "metadata": {
    "colab_type": "text",
    "id": "1hM9slgLZakQ"
   },
   "source": [
    "# Доверительные интервалы для оценки среднего"
   ]
  },
  {
   "cell_type": "code",
   "execution_count": 5,
   "metadata": {
    "colab": {},
    "colab_type": "code",
    "id": "6f7FtOWpZakR"
   },
   "outputs": [],
   "source": [
    "from sklearn import model_selection, datasets, linear_model, metrics\n",
    "\n",
    "import numpy as np\n",
    "import pandas as pd"
   ]
  },
  {
   "cell_type": "code",
   "execution_count": 2,
   "metadata": {},
   "outputs": [
    {
     "name": "stdout",
     "output_type": "stream",
     "text": [
      "1.16.4\n",
      "0.21.2\n"
     ]
    }
   ],
   "source": [
    "import sklearn\n",
    "print(np.__version__)\n",
    "print(sklearn.__version__)"
   ]
  },
  {
   "cell_type": "code",
   "execution_count": 3,
   "metadata": {
    "colab": {
     "base_uri": "https://localhost:8080/",
     "height": 34
    },
    "colab_type": "code",
    "executionInfo": {
     "elapsed": 1484,
     "status": "ok",
     "timestamp": 1561109855892,
     "user": {
      "displayName": "Сергей Наговицин",
      "photoUrl": "https://lh3.googleusercontent.com/-AL9PsTK_IqY/AAAAAAAAAAI/AAAAAAAACJQ/1r7ETeF82Mk/s64/photo.jpg",
      "userId": "13686108071124230201"
     },
     "user_tz": -180
    },
    "id": "gfchZlVMZakU",
    "outputId": "b7d898e0-e048-41bb-b117-1c436d7e172d"
   },
   "outputs": [
    {
     "name": "stdout",
     "output_type": "stream",
     "text": [
      "Populating the interactive namespace from numpy and matplotlib\n"
     ]
    }
   ],
   "source": [
    "%pylab inline"
   ]
  },
  {
   "cell_type": "markdown",
   "metadata": {
    "colab_type": "text",
    "id": "a9KJhpMcZakY"
   },
   "source": [
    "## Загрузка данных"
   ]
  },
  {
   "cell_type": "code",
   "execution_count": 14,
   "metadata": {
    "colab": {
     "base_uri": "https://localhost:8080/",
     "height": 503
    },
    "colab_type": "code",
    "executionInfo": {
     "elapsed": 2153,
     "status": "ok",
     "timestamp": 1561109856572,
     "user": {
      "displayName": "Сергей Наговицин",
      "photoUrl": "https://lh3.googleusercontent.com/-AL9PsTK_IqY/AAAAAAAAAAI/AAAAAAAACJQ/1r7ETeF82Mk/s64/photo.jpg",
      "userId": "13686108071124230201"
     },
     "user_tz": -180
    },
    "id": "lyVW8D1-Zakb",
    "outputId": "e4953c39-76ce-4837-c18c-c55fe5d3301c"
   },
   "outputs": [
    {
     "data": {
      "text/html": [
       "<div>\n",
       "<style scoped>\n",
       "    .dataframe tbody tr th:only-of-type {\n",
       "        vertical-align: middle;\n",
       "    }\n",
       "\n",
       "    .dataframe tbody tr th {\n",
       "        vertical-align: top;\n",
       "    }\n",
       "\n",
       "    .dataframe thead th {\n",
       "        text-align: right;\n",
       "    }\n",
       "</style>\n",
       "<table border=\"1\" class=\"dataframe\">\n",
       "  <thead>\n",
       "    <tr style=\"text-align: right;\">\n",
       "      <th></th>\n",
       "      <th>location</th>\n",
       "      <th>town</th>\n",
       "      <th>mortality</th>\n",
       "      <th>hardness</th>\n",
       "    </tr>\n",
       "  </thead>\n",
       "  <tbody>\n",
       "    <tr>\n",
       "      <th>0</th>\n",
       "      <td>South</td>\n",
       "      <td>Bath</td>\n",
       "      <td>1247</td>\n",
       "      <td>105</td>\n",
       "    </tr>\n",
       "    <tr>\n",
       "      <th>1</th>\n",
       "      <td>North</td>\n",
       "      <td>Birkenhead</td>\n",
       "      <td>1668</td>\n",
       "      <td>17</td>\n",
       "    </tr>\n",
       "    <tr>\n",
       "      <th>2</th>\n",
       "      <td>South</td>\n",
       "      <td>Birmingham</td>\n",
       "      <td>1466</td>\n",
       "      <td>5</td>\n",
       "    </tr>\n",
       "    <tr>\n",
       "      <th>3</th>\n",
       "      <td>North</td>\n",
       "      <td>Blackburn</td>\n",
       "      <td>1800</td>\n",
       "      <td>14</td>\n",
       "    </tr>\n",
       "    <tr>\n",
       "      <th>4</th>\n",
       "      <td>North</td>\n",
       "      <td>Blackpool</td>\n",
       "      <td>1609</td>\n",
       "      <td>18</td>\n",
       "    </tr>\n",
       "  </tbody>\n",
       "</table>\n",
       "</div>"
      ],
      "text/plain": [
       "  location        town  mortality  hardness\n",
       "0    South        Bath       1247       105\n",
       "1    North  Birkenhead       1668        17\n",
       "2    South  Birmingham       1466         5\n",
       "3    North   Blackburn       1800        14\n",
       "4    North   Blackpool       1609        18"
      ]
     },
     "execution_count": 14,
     "metadata": {},
     "output_type": "execute_result"
    }
   ],
   "source": [
    "data = pd.read_csv('water.txt', delimiter='\\t')\n",
    "data.head()"
   ]
  },
  {
   "cell_type": "markdown",
   "metadata": {
    "colab_type": "text",
    "id": "8lphBrQ8Zakm"
   },
   "source": [
    "### Оценка среднего"
   ]
  },
  {
   "cell_type": "code",
   "execution_count": 27,
   "metadata": {
    "colab": {},
    "colab_type": "code",
    "id": "pXLJMph_Zakn"
   },
   "outputs": [],
   "source": [
    "sgd_auc_scores = model_selection.cross_val_score(linear_model.SGDClassifier(max_iter = 1000), \n",
    "                                 blobs[0], blobs[1], scoring = 'roc_auc', cv = 20)"
   ]
  },
  {
   "cell_type": "code",
   "execution_count": 14,
   "metadata": {
    "colab": {},
    "colab_type": "code",
    "id": "-obGpZuzZakp"
   },
   "outputs": [],
   "source": [
    "ridge_auc_scores = model_selection.cross_val_score(linear_model.RidgeClassifier(), \n",
    "                                 blobs[0], blobs[1], scoring = 'roc_auc',  \n",
    "                                 cv = 20)"
   ]
  },
  {
   "cell_type": "markdown",
   "metadata": {
    "colab_type": "text",
    "id": "lTTW9r0wZakr"
   },
   "source": [
    "### Расчет доверительных интервалов"
   ]
  },
  {
   "cell_type": "code",
   "execution_count": 74,
   "metadata": {
    "colab": {
     "base_uri": "https://localhost:8080/",
     "height": 51
    },
    "colab_type": "code",
    "executionInfo": {
     "elapsed": 2129,
     "status": "ok",
     "timestamp": 1561109856585,
     "user": {
      "displayName": "Сергей Наговицин",
      "photoUrl": "https://lh3.googleusercontent.com/-AL9PsTK_IqY/AAAAAAAAAAI/AAAAAAAACJQ/1r7ETeF82Mk/s64/photo.jpg",
      "userId": "13686108071124230201"
     },
     "user_tz": -180
    },
    "id": "RX8MQFv9Zaks",
    "outputId": "4a2d76c8-1965-4727-a12e-c0b16f4dfb46"
   },
   "outputs": [
    {
     "name": "stdout",
     "output_type": "stream",
     "text": [
      "Total\n",
      "(1476.0833413552848, 1572.2117406119285)\n",
      "1476.0833\n",
      "South\n",
      "(1321.7814024572633, 1431.8339821581214)\n",
      "1431.834\n",
      "North\n",
      "(1587.2999812165915, 1679.9000187834083)\n",
      "1587.3\n"
     ]
    }
   ],
   "source": [
    "from statsmodels.stats.weightstats import _zconfint_generic, _tconfint_generic\n",
    "\n",
    "def calculate_interval(array, n=0):\n",
    "    mean = array.mean()\n",
    "    std = array.std(ddof=1)/sqrt(len(array))\n",
    "    intervals =  _tconfint_generic(mean, std,\n",
    "                                   len(data['mortality']) - 1,\n",
    "                                   0.05, 'two-sided')\n",
    "    print(intervals)\n",
    "    print(round(intervals[n],4))\n",
    "    \n",
    "    \n",
    "print('Total')\n",
    "calculate_interval(data.mortality, 0)\n",
    "\n",
    "print('South')\n",
    "calculate_interval(data[data.location=='South'].mortality, 1)\n",
    "\n",
    "print('North')\n",
    "calculate_interval(data[data.location=='North'].mortality, 0)"
   ]
  },
  {
   "cell_type": "code",
   "execution_count": 70,
   "metadata": {},
   "outputs": [
    {
     "name": "stdout",
     "output_type": "stream",
     "text": [
      "61\n"
     ]
    }
   ],
   "source": []
  },
  {
   "cell_type": "code",
   "execution_count": 40,
   "metadata": {},
   "outputs": [
    {
     "name": "stdout",
     "output_type": "stream",
     "text": [
      "69.76923076923077 7.9153808776248935\n",
      "(53.93611164687147, 85.60234989159008)\n",
      "85.6023\n",
      "30.4 4.417535721274871\n",
      "(21.563612922286836, 39.23638707771316)\n",
      "39.2364\n"
     ]
    }
   ],
   "source": [
    "calculate_interval(data.hardness[data.location=='South'])\n",
    "\n",
    "calculate_interval(data.hardness[data.location=='North'])"
   ]
  },
  {
   "cell_type": "markdown",
   "metadata": {
    "colab_type": "text",
    "id": "zmoNLSx8Zaku"
   },
   "source": [
    "### Интервальная оценка среднего "
   ]
  },
  {
   "cell_type": "code",
   "execution_count": 16,
   "metadata": {
    "colab": {},
    "colab_type": "code",
    "id": "USAjyll5Zakv"
   },
   "outputs": [],
   "source": [
    "from statsmodels.stats.weightstats import _zconfint_generic, _tconfint_generic"
   ]
  },
  {
   "cell_type": "code",
   "execution_count": 17,
   "metadata": {
    "colab": {},
    "colab_type": "code",
    "id": "tXXxal8UZakx"
   },
   "outputs": [],
   "source": [
    "sgd_mean = sgd_auc_scores.mean()\n",
    "ridge_mean = ridge_auc_scores.mean()"
   ]
  },
  {
   "cell_type": "markdown",
   "metadata": {
    "colab_type": "text",
    "id": "yUT3c_2aZak1"
   },
   "source": [
    "#### z-интервал"
   ]
  },
  {
   "cell_type": "markdown",
   "metadata": {
    "colab_type": "text",
    "id": "Zio4mc1PZak1"
   },
   "source": [
    "Допустим, нам откуда-то известно, что дисперсия auc_scores $\\sigma^2=0.25$. Построим доверительные интервалы для средних вида $$\\bar{X}_n \\pm z_{1-\\frac{\\alpha}{2}} \\frac{\\sigma}{\\sqrt{n}}$$"
   ]
  },
  {
   "cell_type": "code",
   "execution_count": 80,
   "metadata": {
    "colab": {
     "base_uri": "https://localhost:8080/",
     "height": 51
    },
    "colab_type": "code",
    "executionInfo": {
     "elapsed": 2122,
     "status": "ok",
     "timestamp": 1561109856591,
     "user": {
      "displayName": "Сергей Наговицин",
      "photoUrl": "https://lh3.googleusercontent.com/-AL9PsTK_IqY/AAAAAAAAAAI/AAAAAAAACJQ/1r7ETeF82Mk/s64/photo.jpg",
      "userId": "13686108071124230201"
     },
     "user_tz": -180
    },
    "id": "Ml_E5M6YZak2",
    "outputId": "5caf0179-33ab-41af-aad3-3e8d61694ed7"
   },
   "outputs": [
    {
     "name": "stdout",
     "output_type": "stream",
     "text": [
      "sgd model mean auc 95%% confidence interval (99.90011098599602, 100.09988901400398)\n"
     ]
    }
   ],
   "source": [
    "print(\"sgd model mean auc 95%% confidence interval\", _zconfint_generic(100, \n",
    "                                                                  sqrt(1/385), \n",
    "                                                                  0.05, 'two-sided'))"
   ]
  },
  {
   "cell_type": "markdown",
   "metadata": {
    "colab_type": "text",
    "id": "kzj7DFMjZak5"
   },
   "source": [
    "#### t-интервал"
   ]
  },
  {
   "cell_type": "markdown",
   "metadata": {
    "colab_type": "text",
    "id": "nAVXI7JzZak6"
   },
   "source": [
    "Вместо гипотетической теоретической дисперсии $\\sigma^2$, которую мы на самом деле в данном случае не знаем, используем выборочные дисперсии, и построим доверительные интервалы вида $$\\bar{X}_n \\pm t_{1-\\frac{\\alpha}{2}} \\frac{S}{\\sqrt{n}}$$"
   ]
  },
  {
   "cell_type": "code",
   "execution_count": 19,
   "metadata": {
    "colab": {
     "base_uri": "https://localhost:8080/",
     "height": 34
    },
    "colab_type": "code",
    "executionInfo": {
     "elapsed": 2112,
     "status": "ok",
     "timestamp": 1561109856592,
     "user": {
      "displayName": "Сергей Наговицин",
      "photoUrl": "https://lh3.googleusercontent.com/-AL9PsTK_IqY/AAAAAAAAAAI/AAAAAAAACJQ/1r7ETeF82Mk/s64/photo.jpg",
      "userId": "13686108071124230201"
     },
     "user_tz": -180
    },
    "id": "_DjoR0U9Zak6",
    "outputId": "e17d4465-72a1-456e-e680-cda7b6efb70e"
   },
   "outputs": [
    {
     "data": {
      "text/plain": [
       "numpy.ndarray"
      ]
     },
     "execution_count": 19,
     "metadata": {},
     "output_type": "execute_result"
    }
   ],
   "source": [
    "type(sgd_auc_scores)"
   ]
  },
  {
   "cell_type": "code",
   "execution_count": 20,
   "metadata": {
    "colab": {},
    "colab_type": "code",
    "id": "cMySzUAtZak9"
   },
   "outputs": [],
   "source": [
    "sgd_mean_std = sgd_auc_scores.std(ddof=1)/sqrt(len(sgd_auc_scores))\n",
    "ridge_mean_std = ridge_auc_scores.std(ddof=1)/sqrt(len(ridge_auc_scores))"
   ]
  },
  {
   "cell_type": "code",
   "execution_count": 21,
   "metadata": {
    "colab": {
     "base_uri": "https://localhost:8080/",
     "height": 51
    },
    "colab_type": "code",
    "executionInfo": {
     "elapsed": 2105,
     "status": "ok",
     "timestamp": 1561109856595,
     "user": {
      "displayName": "Сергей Наговицин",
      "photoUrl": "https://lh3.googleusercontent.com/-AL9PsTK_IqY/AAAAAAAAAAI/AAAAAAAACJQ/1r7ETeF82Mk/s64/photo.jpg",
      "userId": "13686108071124230201"
     },
     "user_tz": -180
    },
    "id": "3S-bfjc6ZalA",
    "outputId": "859bbd32-7ce6-427f-ceaf-fc5179ba53bf"
   },
   "outputs": [
    {
     "name": "stdout",
     "output_type": "stream",
     "text": [
      "sgd model mean auc 95%% confidence interval (0.8988783333963276, 0.9652479421138765)\n",
      "ridge model mean auc 95%% confidence interval (0.9228783259302369, 0.9731038169269057)\n"
     ]
    }
   ],
   "source": [
    "print(\"sgd model mean auc 95%% confidence interval\", _tconfint_generic(sgd_mean, sgd_mean_std,\n",
    "                                                                       len(sgd_auc_scores) - 1,\n",
    "                                                                       0.05, 'two-sided'))\n",
    "\n",
    "print(\"ridge model mean auc 95%% confidence interval\", _tconfint_generic(ridge_mean, ridge_mean_std,\n",
    "                                                                         len(sgd_auc_scores) - 1,\n",
    "                                                                         0.05, 'two-sided'))"
   ]
  },
  {
   "cell_type": "code",
   "execution_count": 93,
   "metadata": {},
   "outputs": [
    {
     "name": "stdout",
     "output_type": "stream",
     "text": [
      "1  2.9677\n",
      "5  0.0077\n",
      "6  (0.0047, 0.0107)\n",
      "7  1.8321\n"
     ]
    }
   ],
   "source": [
    "import scipy\n",
    "# q 1\n",
    "print('1 ', round(scipy.stats.norm.ppf(1-(1-0.997)/2), 4))\n",
    "\n",
    "# q 5\n",
    "p1 = 189/11034\n",
    "p2 = 104/11037\n",
    "print('5 ', round((p1 - p2), 4))\n",
    "\n",
    "# q 6\n",
    "def proportions_confint_diff_ind(success1, number1, success2, number2, alpha = 0.05):    \n",
    "    z = scipy.stats.norm.ppf(1 - alpha / 2.)   \n",
    "    p1 = success1 / number1\n",
    "    p2 = success2 / number2\n",
    "    \n",
    "    left_boundary = (p1 - p2) - z * np.sqrt(p1 * (1 - p1)/ number1 + p2 * (1 - p2)/ number2)\n",
    "    right_boundary = (p1 - p2) + z * np.sqrt(p1 * (1 - p1)/ number1 + p2 * (1 - p2)/ number2)\n",
    "    \n",
    "    return (round(left_boundary, 4), round(right_boundary, 4))\n",
    "\n",
    "print('6 ', proportions_confint_diff_ind(189, 11034, 104, 11037))\n",
    "\n",
    "# q 7\n",
    "odd1 = 189/(11034-189)\n",
    "odd2 = 104/(11037-104)\n",
    "print('7 ', round(odd1/odd2, 4))"
   ]
  },
  {
   "cell_type": "code",
   "execution_count": null,
   "metadata": {},
   "outputs": [],
   "source": []
  }
 ],
 "metadata": {
  "colab": {
   "name": "stat_mean_conf_int.ipynb",
   "provenance": [],
   "version": "0.3.2"
  },
  "kernelspec": {
   "display_name": "Python 3",
   "language": "python",
   "name": "python3"
  },
  "language_info": {
   "codemirror_mode": {
    "name": "ipython",
    "version": 3
   },
   "file_extension": ".py",
   "mimetype": "text/x-python",
   "name": "python",
   "nbconvert_exporter": "python",
   "pygments_lexer": "ipython3",
   "version": "3.7.3"
  }
 },
 "nbformat": 4,
 "nbformat_minor": 4
}
